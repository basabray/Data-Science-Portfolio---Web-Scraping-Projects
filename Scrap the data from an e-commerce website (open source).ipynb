{
 "cells": [
  {
   "cell_type": "markdown",
   "metadata": {},
   "source": [
    "## Web Scrapping Assignment: Extract data from an open source\n",
    "- https://webscraper.io/test-sites/e-commerce/static/computers/laptops\n",
    "- Data from the first 10 pages needs to be scrapped.\n",
    "- The fields to be scraped are: Title, Price. Description, Ratings."
   ]
  },
  {
   "cell_type": "code",
   "execution_count": 9,
   "metadata": {},
   "outputs": [],
   "source": [
    "import bs4 \n",
    "import requests\n",
    "from selenium import webdriver\n",
    "import time\n",
    "import pandas as pd\n",
    "url = 'https://webscraper.io/test-sites/e-commerce/static/computers/laptops/'"
   ]
  },
  {
   "cell_type": "code",
   "execution_count": 11,
   "metadata": {},
   "outputs": [],
   "source": [
    "driver = webdriver.Chrome(r\"C:\\Users\\91842\\Downloads\\chromedriver.exe\")\n",
    "driver.get(url)"
   ]
  },
  {
   "cell_type": "code",
   "execution_count": 12,
   "metadata": {},
   "outputs": [],
   "source": [
    "html = driver.page_source"
   ]
  },
  {
   "cell_type": "code",
   "execution_count": 13,
   "metadata": {},
   "outputs": [],
   "source": [
    "soup = bs4.BeautifulSoup(res.text, 'html.parser')"
   ]
  },
  {
   "cell_type": "markdown",
   "metadata": {},
   "source": [
    "#### Get all the Titles:"
   ]
  },
  {
   "cell_type": "code",
   "execution_count": 14,
   "metadata": {},
   "outputs": [
    {
     "data": {
      "text/plain": [
       "['Packard 255 G2',\n",
       " 'Aspire E1-510',\n",
       " 'ThinkPad T540p',\n",
       " 'ProBook',\n",
       " 'ThinkPad X240']"
      ]
     },
     "execution_count": 14,
     "metadata": {},
     "output_type": "execute_result"
    }
   ],
   "source": [
    "title = []\n",
    "soup.find_all('a', class_='title')\n",
    "for name in soup.find_all('a', class_='title'):\n",
    "    title.append(name.text.strip())\n",
    "title[:5]"
   ]
  },
  {
   "cell_type": "markdown",
   "metadata": {},
   "source": [
    "#### Get all the Prices:"
   ]
  },
  {
   "cell_type": "code",
   "execution_count": 17,
   "metadata": {},
   "outputs": [
    {
     "data": {
      "text/plain": [
       "['$416.99', '$306.99', '$1178.99', '$739.99', '$1311.99']"
      ]
     },
     "execution_count": 17,
     "metadata": {},
     "output_type": "execute_result"
    }
   ],
   "source": [
    "price = []\n",
    "soup.find_all('h4', class_='pull-right price')\n",
    "for name in soup.find_all('h4', class_='pull-right price'):\n",
    "    price.append(name.text.strip())\n",
    "price[:5]"
   ]
  },
  {
   "cell_type": "markdown",
   "metadata": {},
   "source": [
    "#### Get all the description:"
   ]
  },
  {
   "cell_type": "code",
   "execution_count": 18,
   "metadata": {},
   "outputs": [
    {
     "data": {
      "text/plain": [
       "['15.6\", AMD E2-3800 1.3GHz, 4GB, 500GB, Windows 8.1',\n",
       " '15.6\", Pentium N3520 2.16GHz, 4GB, 500GB, Linux',\n",
       " '15.6\", Core i5-4200M, 4GB, 500GB, Win7 Pro 64bit',\n",
       " '14\", Core i5 2.6GHz, 4GB, 500GB, Win7 Pro 64bit',\n",
       " '12.5\", Core i5-4300U, 8GB, 240GB SSD, Win7 Pro 64bit']"
      ]
     },
     "execution_count": 18,
     "metadata": {},
     "output_type": "execute_result"
    }
   ],
   "source": [
    "description = []\n",
    "soup.find_all('p', class_='description')\n",
    "for name in soup.find_all('p', class_='description'):\n",
    "    description.append(name.text.strip())\n",
    "description[:5]"
   ]
  },
  {
   "cell_type": "markdown",
   "metadata": {},
   "source": [
    "#### Get all the Ratings:"
   ]
  },
  {
   "cell_type": "code",
   "execution_count": 19,
   "metadata": {},
   "outputs": [
    {
     "data": {
      "text/plain": [
       "['2', '2', '2', '8', '12']"
      ]
     },
     "execution_count": 19,
     "metadata": {},
     "output_type": "execute_result"
    }
   ],
   "source": [
    "rating = []\n",
    "soup.find_all('div', class_=\"ratings\")\n",
    "for name in soup.find_all('div', class_=\"ratings\"):\n",
    "    rating.append(name.text.strip().split()[0])\n",
    "rating[:5]"
   ]
  },
  {
   "cell_type": "markdown",
   "metadata": {},
   "source": [
    "#### Put all the scrpped data into a df:"
   ]
  },
  {
   "cell_type": "code",
   "execution_count": null,
   "metadata": {},
   "outputs": [],
   "source": [
    "df = pd.DataFrame({'Author':Author,'quotes':quotes2,'likes':likes2})\n",
    "df.head()"
   ]
  },
  {
   "cell_type": "markdown",
   "metadata": {},
   "source": [
    "Now if we want to do this for each page of this website then we need some automatic way rather than doing it manually.Put 3 columns into a df: automatic way\n",
    "- use customized func instead"
   ]
  },
  {
   "cell_type": "code",
   "execution_count": 34,
   "metadata": {},
   "outputs": [],
   "source": [
    "def get_tab(soup):\n",
    "    tittle=[]\n",
    "    for i in soup.find_all('a',{\"title\"}):\n",
    "        tittle.append(i.text)\n",
    "    price=[]\n",
    "    for i in soup.find_all('h4',{\"pull-right price\"}):\n",
    "        price.append(i.text)\n",
    "    Description=[]\n",
    "    for i in soup.find_all('p',{\"description\"}):\n",
    "        Description.append(i.text)\n",
    "    ratings=[]\n",
    "    for i in soup.find_all(\"div\",class_=\"ratings\"):\n",
    "        ratings.append(i.text.strip().split()[0])\n",
    "\n",
    "    return pd.DataFrame({\"Tittle\":tittle,\"Price\":price,\"Descriptions\":Description,\"Ratings\":ratings})"
   ]
  },
  {
   "cell_type": "code",
   "execution_count": 35,
   "metadata": {},
   "outputs": [
    {
     "data": {
      "text/html": [
       "<div>\n",
       "<style scoped>\n",
       "    .dataframe tbody tr th:only-of-type {\n",
       "        vertical-align: middle;\n",
       "    }\n",
       "\n",
       "    .dataframe tbody tr th {\n",
       "        vertical-align: top;\n",
       "    }\n",
       "\n",
       "    .dataframe thead th {\n",
       "        text-align: right;\n",
       "    }\n",
       "</style>\n",
       "<table border=\"1\" class=\"dataframe\">\n",
       "  <thead>\n",
       "    <tr style=\"text-align: right;\">\n",
       "      <th></th>\n",
       "      <th>Tittle</th>\n",
       "      <th>Price</th>\n",
       "      <th>Descriptions</th>\n",
       "      <th>Ratings</th>\n",
       "    </tr>\n",
       "  </thead>\n",
       "  <tbody>\n",
       "    <tr>\n",
       "      <th>0</th>\n",
       "      <td>Asus VivoBook 15...</td>\n",
       "      <td>$468.56</td>\n",
       "      <td>Asus VivoBook 15 X540UA-DM260 Chocolate Black,...</td>\n",
       "      <td>1</td>\n",
       "    </tr>\n",
       "    <tr>\n",
       "      <th>1</th>\n",
       "      <td>Acer Aspire ES1-...</td>\n",
       "      <td>$469.10</td>\n",
       "      <td>Acer Aspire ES1-572 Black, 15.6\" HD, Core i3-6...</td>\n",
       "      <td>5</td>\n",
       "    </tr>\n",
       "    <tr>\n",
       "      <th>2</th>\n",
       "      <td>Lenovo V510 Blac...</td>\n",
       "      <td>$484.23</td>\n",
       "      <td>Lenovo V510 Black, 14\" HD, Core i3-6006U, 4GB,...</td>\n",
       "      <td>8</td>\n",
       "    </tr>\n",
       "    <tr>\n",
       "      <th>3</th>\n",
       "      <td>Acer Aspire ES1-...</td>\n",
       "      <td>$485.90</td>\n",
       "      <td>Acer Aspire ES1-572 Black, 15.6\" HD, Core i5-7...</td>\n",
       "      <td>6</td>\n",
       "    </tr>\n",
       "    <tr>\n",
       "      <th>4</th>\n",
       "      <td>Lenovo V510 Blac...</td>\n",
       "      <td>$487.80</td>\n",
       "      <td>Lenovo V510 Black, 15.6\" HD, Core i3-6006U, 4G...</td>\n",
       "      <td>9</td>\n",
       "    </tr>\n",
       "    <tr>\n",
       "      <th>5</th>\n",
       "      <td>Acer Swift 1 SF1...</td>\n",
       "      <td>$488.64</td>\n",
       "      <td>Acer Swift 1 SF113-31 Silver, 13.3\" FHD, Penti...</td>\n",
       "      <td>4</td>\n",
       "    </tr>\n",
       "  </tbody>\n",
       "</table>\n",
       "</div>"
      ],
      "text/plain": [
       "                Tittle    Price  \\\n",
       "0  Asus VivoBook 15...  $468.56   \n",
       "1  Acer Aspire ES1-...  $469.10   \n",
       "2  Lenovo V510 Blac...  $484.23   \n",
       "3  Acer Aspire ES1-...  $485.90   \n",
       "4  Lenovo V510 Blac...  $487.80   \n",
       "5  Acer Swift 1 SF1...  $488.64   \n",
       "\n",
       "                                        Descriptions Ratings  \n",
       "0  Asus VivoBook 15 X540UA-DM260 Chocolate Black,...       1  \n",
       "1  Acer Aspire ES1-572 Black, 15.6\" HD, Core i3-6...       5  \n",
       "2  Lenovo V510 Black, 14\" HD, Core i3-6006U, 4GB,...       8  \n",
       "3  Acer Aspire ES1-572 Black, 15.6\" HD, Core i5-7...       6  \n",
       "4  Lenovo V510 Black, 15.6\" HD, Core i3-6006U, 4G...       9  \n",
       "5  Acer Swift 1 SF113-31 Silver, 13.3\" FHD, Penti...       4  "
      ]
     },
     "execution_count": 35,
     "metadata": {},
     "output_type": "execute_result"
    }
   ],
   "source": [
    "df=get_tab(soup)\n",
    "df"
   ]
  },
  {
   "cell_type": "markdown",
   "metadata": {},
   "source": [
    "#### Get Data from the first 10 pages:"
   ]
  },
  {
   "cell_type": "code",
   "execution_count": 22,
   "metadata": {},
   "outputs": [
    {
     "data": {
      "text/plain": [
       "'https://webscraper.io/test-sites/e-commerce/static/computers/laptops?page=4'"
      ]
     },
     "execution_count": 22,
     "metadata": {},
     "output_type": "execute_result"
    }
   ],
   "source": [
    "stub=\"https://webscraper.io/test-sites/e-commerce/static/computers/laptops?page={}\"\n",
    "stub.format(4)"
   ]
  },
  {
   "cell_type": "code",
   "execution_count": 26,
   "metadata": {},
   "outputs": [
    {
     "name": "stdout",
     "output_type": "stream",
     "text": [
      "https://webscraper.io/test-sites/e-commerce/static/computers/laptops?page=1\n",
      "https://webscraper.io/test-sites/e-commerce/static/computers/laptops?page=2\n",
      "https://webscraper.io/test-sites/e-commerce/static/computers/laptops?page=3\n",
      "https://webscraper.io/test-sites/e-commerce/static/computers/laptops?page=4\n",
      "https://webscraper.io/test-sites/e-commerce/static/computers/laptops?page=5\n",
      "https://webscraper.io/test-sites/e-commerce/static/computers/laptops?page=6\n",
      "https://webscraper.io/test-sites/e-commerce/static/computers/laptops?page=7\n",
      "https://webscraper.io/test-sites/e-commerce/static/computers/laptops?page=8\n",
      "https://webscraper.io/test-sites/e-commerce/static/computers/laptops?page=9\n",
      "https://webscraper.io/test-sites/e-commerce/static/computers/laptops?page=10\n"
     ]
    }
   ],
   "source": [
    "#to access each and every page initiate a loop: access only 1 to 10 pages\n",
    "for page in range(1,11):\n",
    "    url = stub.format(page)\n",
    "    print(url)"
   ]
  },
  {
   "cell_type": "markdown",
   "metadata": {},
   "source": [
    "#### Keep track how much data is being processed using lib tqdm:"
   ]
  },
  {
   "cell_type": "code",
   "execution_count": 28,
   "metadata": {},
   "outputs": [],
   "source": [
    "#extract for 10 pages:\n",
    "from tqdm import tqdm"
   ]
  },
  {
   "cell_type": "code",
   "execution_count": 36,
   "metadata": {},
   "outputs": [
    {
     "name": "stderr",
     "output_type": "stream",
     "text": [
      "100%|██████████████████████████████████████████████████████████████████████████████████| 10/10 [00:08<00:00,  1.20it/s]\n"
     ]
    }
   ],
   "source": [
    "#extract from 10 pages keeping track on it:\n",
    "table = []\n",
    "for page in tqdm(range(1,11)):\n",
    "    url = stub.format(page)\n",
    "    html = requests.get(url).text\n",
    "    soup = bs4.BeautifulSoup(html, 'html.parser')\n",
    "    table.append(get_tab(soup))"
   ]
  },
  {
   "cell_type": "code",
   "execution_count": 33,
   "metadata": {},
   "outputs": [
    {
     "data": {
      "text/plain": [
       "10"
      ]
     },
     "execution_count": 33,
     "metadata": {},
     "output_type": "execute_result"
    }
   ],
   "source": [
    "len(table)\n",
    "#extracted from 10 diff pages"
   ]
  },
  {
   "cell_type": "code",
   "execution_count": 39,
   "metadata": {},
   "outputs": [
    {
     "data": {
      "text/html": [
       "<div>\n",
       "<style scoped>\n",
       "    .dataframe tbody tr th:only-of-type {\n",
       "        vertical-align: middle;\n",
       "    }\n",
       "\n",
       "    .dataframe tbody tr th {\n",
       "        vertical-align: top;\n",
       "    }\n",
       "\n",
       "    .dataframe thead th {\n",
       "        text-align: right;\n",
       "    }\n",
       "</style>\n",
       "<table border=\"1\" class=\"dataframe\">\n",
       "  <thead>\n",
       "    <tr style=\"text-align: right;\">\n",
       "      <th></th>\n",
       "      <th>Tittle</th>\n",
       "      <th>Price</th>\n",
       "      <th>Descriptions</th>\n",
       "      <th>Ratings</th>\n",
       "    </tr>\n",
       "  </thead>\n",
       "  <tbody>\n",
       "    <tr>\n",
       "      <th>0</th>\n",
       "      <td>Packard 255 G2</td>\n",
       "      <td>$416.99</td>\n",
       "      <td>15.6\", AMD E2-3800 1.3GHz, 4GB, 500GB, Windows...</td>\n",
       "      <td>2</td>\n",
       "    </tr>\n",
       "    <tr>\n",
       "      <th>1</th>\n",
       "      <td>Aspire E1-510</td>\n",
       "      <td>$306.99</td>\n",
       "      <td>15.6\", Pentium N3520 2.16GHz, 4GB, 500GB, Linux</td>\n",
       "      <td>2</td>\n",
       "    </tr>\n",
       "    <tr>\n",
       "      <th>2</th>\n",
       "      <td>ThinkPad T540p</td>\n",
       "      <td>$1178.99</td>\n",
       "      <td>15.6\", Core i5-4200M, 4GB, 500GB, Win7 Pro 64bit</td>\n",
       "      <td>2</td>\n",
       "    </tr>\n",
       "    <tr>\n",
       "      <th>3</th>\n",
       "      <td>ProBook</td>\n",
       "      <td>$739.99</td>\n",
       "      <td>14\", Core i5 2.6GHz, 4GB, 500GB, Win7 Pro 64bit</td>\n",
       "      <td>8</td>\n",
       "    </tr>\n",
       "    <tr>\n",
       "      <th>4</th>\n",
       "      <td>ThinkPad X240</td>\n",
       "      <td>$1311.99</td>\n",
       "      <td>12.5\", Core i5-4300U, 8GB, 240GB SSD, Win7 Pro...</td>\n",
       "      <td>12</td>\n",
       "    </tr>\n",
       "  </tbody>\n",
       "</table>\n",
       "</div>"
      ],
      "text/plain": [
       "           Tittle     Price  \\\n",
       "0  Packard 255 G2   $416.99   \n",
       "1   Aspire E1-510   $306.99   \n",
       "2  ThinkPad T540p  $1178.99   \n",
       "3         ProBook   $739.99   \n",
       "4   ThinkPad X240  $1311.99   \n",
       "\n",
       "                                        Descriptions Ratings  \n",
       "0  15.6\", AMD E2-3800 1.3GHz, 4GB, 500GB, Windows...       2  \n",
       "1    15.6\", Pentium N3520 2.16GHz, 4GB, 500GB, Linux       2  \n",
       "2   15.6\", Core i5-4200M, 4GB, 500GB, Win7 Pro 64bit       2  \n",
       "3    14\", Core i5 2.6GHz, 4GB, 500GB, Win7 Pro 64bit       8  \n",
       "4  12.5\", Core i5-4300U, 8GB, 240GB SSD, Win7 Pro...      12  "
      ]
     },
     "execution_count": 39,
     "metadata": {},
     "output_type": "execute_result"
    }
   ],
   "source": [
    "#combine all the scrapped data:\n",
    "data = pd.concat(table, axis=0)\n",
    "data.head()"
   ]
  },
  {
   "cell_type": "markdown",
   "metadata": {},
   "source": [
    "**Download the data in csv format file**"
   ]
  },
  {
   "cell_type": "code",
   "execution_count": 38,
   "metadata": {},
   "outputs": [],
   "source": [
    "data.to_csv(r'C:\\Users\\91842\\Downloads\\Web Scrapping Assignment.csv', index = False)"
   ]
  }
 ],
 "metadata": {
  "kernelspec": {
   "display_name": "Python 3",
   "language": "python",
   "name": "python3"
  },
  "language_info": {
   "codemirror_mode": {
    "name": "ipython",
    "version": 3
   },
   "file_extension": ".py",
   "mimetype": "text/x-python",
   "name": "python",
   "nbconvert_exporter": "python",
   "pygments_lexer": "ipython3",
   "version": "3.7.6"
  }
 },
 "nbformat": 4,
 "nbformat_minor": 4
}
