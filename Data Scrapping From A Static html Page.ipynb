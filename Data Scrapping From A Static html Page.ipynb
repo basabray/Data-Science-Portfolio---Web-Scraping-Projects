{
 "cells": [
  {
   "cell_type": "markdown",
   "metadata": {},
   "source": [
    "# Data Scrapping From A Static html Page:\n",
    "- In the html file there are various tags present. \n",
    "- Using those tags we will get the specific data as per requirement."
   ]
  },
  {
   "cell_type": "code",
   "execution_count": 1,
   "metadata": {},
   "outputs": [],
   "source": [
    "con = open(\"html.html\",\"r\")   #open the html file"
   ]
  },
  {
   "cell_type": "code",
   "execution_count": 2,
   "metadata": {},
   "outputs": [],
   "source": [
    "html = con.read()            #read it\n",
    "con.close()                  #close it"
   ]
  },
  {
   "cell_type": "code",
   "execution_count": 3,
   "metadata": {},
   "outputs": [
    {
     "name": "stdout",
     "output_type": "stream",
     "text": [
      "<!DOCTYPE html>\n",
      "\n",
      "<html>\n",
      "    <head>\n",
      "        <title>GETTING STARTED WITH bs4</title>\n",
      "    </head>\n",
      "    <div class=\"para 1\">\n",
      "        <p>\n",
      "            This is paragraph one\n",
      "        </p>\n",
      "        <p>\n",
      "            This is paragraph two\n",
      "        </p>\n",
      "    </div>\n",
      "    <div class='para 2'>\n",
      "        <p>\n",
      "            This is para 1 in div 2\n",
      "        </p>\n",
      "    \n",
      "    </div>\n",
      "    <div class=\"para 1\">\n",
      "        <p>\n",
      "            This is paragraph three of div with class para 1\n",
      "        </p>\n",
      "        <p>\n",
      "            This is paragraph four of div with class para 1\n",
      "        </p>\n",
      "    </div>\n",
      "\n",
      "</html>\n",
      "<class 'str'>\n"
     ]
    }
   ],
   "source": [
    "print(html)\n",
    "print(type(html))  #Type of this is String"
   ]
  },
  {
   "cell_type": "code",
   "execution_count": 13,
   "metadata": {},
   "outputs": [
    {
     "data": {
      "text/plain": [
       "'<!DOCTYPE '"
      ]
     },
     "execution_count": 13,
     "metadata": {},
     "output_type": "execute_result"
    }
   ],
   "source": [
    "html[:10]"
   ]
  },
  {
   "cell_type": "code",
   "execution_count": 14,
   "metadata": {},
   "outputs": [
    {
     "data": {
      "text/plain": [
       "566"
      ]
     },
     "execution_count": 14,
     "metadata": {},
     "output_type": "execute_result"
    }
   ],
   "source": [
    "len(html)"
   ]
  },
  {
   "cell_type": "code",
   "execution_count": 21,
   "metadata": {},
   "outputs": [],
   "source": [
    "#!pip install beautifulsoup4"
   ]
  },
  {
   "cell_type": "code",
   "execution_count": 5,
   "metadata": {},
   "outputs": [],
   "source": [
    "import bs4 "
   ]
  },
  {
   "cell_type": "code",
   "execution_count": 6,
   "metadata": {},
   "outputs": [
    {
     "data": {
      "text/plain": [
       "bs4.BeautifulSoup"
      ]
     },
     "execution_count": 6,
     "metadata": {},
     "output_type": "execute_result"
    }
   ],
   "source": [
    "soup = bs4.BeautifulSoup(html, 'html.parser') #there are many types of parser\n",
    "type(soup)"
   ]
  },
  {
   "cell_type": "code",
   "execution_count": 7,
   "metadata": {},
   "outputs": [
    {
     "data": {
      "text/plain": [
       "<div class=\"para 1\">\n",
       "<p>\n",
       "            This is paragraph one\n",
       "        </p>\n",
       "<p>\n",
       "            This is paragraph two\n",
       "        </p>\n",
       "</div>"
      ]
     },
     "execution_count": 7,
     "metadata": {},
     "output_type": "execute_result"
    }
   ],
   "source": [
    "#access the div tags:\n",
    "soup.div\n",
    "#This gave the 1st div only"
   ]
  },
  {
   "cell_type": "code",
   "execution_count": 9,
   "metadata": {},
   "outputs": [
    {
     "data": {
      "text/plain": [
       "<div class=\"para 1\">\n",
       "<p>\n",
       "            This is paragraph one\n",
       "        </p>\n",
       "<p>\n",
       "            This is paragraph two\n",
       "        </p>\n",
       "</div>"
      ]
     },
     "execution_count": 9,
     "metadata": {},
     "output_type": "execute_result"
    }
   ],
   "source": [
    "soup.find('div')"
   ]
  },
  {
   "cell_type": "markdown",
   "metadata": {},
   "source": [
    "Note: find gives only the 1st instacnace that is matched."
   ]
  },
  {
   "cell_type": "code",
   "execution_count": 27,
   "metadata": {},
   "outputs": [
    {
     "data": {
      "text/plain": [
       "<p>\n",
       "            This is paragraph one\n",
       "        </p>"
      ]
     },
     "execution_count": 27,
     "metadata": {},
     "output_type": "execute_result"
    }
   ],
   "source": [
    "#access the p tags:\n",
    "soup.p"
   ]
  },
  {
   "cell_type": "markdown",
   "metadata": {},
   "source": [
    "**How to access all the tags?**\n",
    "- use find_all method"
   ]
  },
  {
   "cell_type": "code",
   "execution_count": 29,
   "metadata": {},
   "outputs": [
    {
     "data": {
      "text/plain": [
       "[<div class=\"para 1\">\n",
       " <p>\n",
       "             This is paragraph one\n",
       "         </p>\n",
       " <p>\n",
       "             This is paragraph two\n",
       "         </p>\n",
       " </div>,\n",
       " <div class=\"para 2\">\n",
       " <p>\n",
       "             This is para 1 in div 2\n",
       "         </p>\n",
       " </div>,\n",
       " <div class=\"para 1\">\n",
       " <p>\n",
       "             This is paragraph three of div with class para 1\n",
       "         </p>\n",
       " <p>\n",
       "             This is paragraph four of div with class para 1\n",
       "         </p>\n",
       " </div>]"
      ]
     },
     "execution_count": 29,
     "metadata": {},
     "output_type": "execute_result"
    }
   ],
   "source": [
    "#access all the div tags:\n",
    "soup.find_all('div')\n",
    "#this gave all the div tags as a list"
   ]
  },
  {
   "cell_type": "code",
   "execution_count": 31,
   "metadata": {},
   "outputs": [
    {
     "data": {
      "text/plain": [
       "[<p>\n",
       "             This is paragraph one\n",
       "         </p>,\n",
       " <p>\n",
       "             This is paragraph two\n",
       "         </p>,\n",
       " <p>\n",
       "             This is para 1 in div 2\n",
       "         </p>,\n",
       " <p>\n",
       "             This is paragraph three of div with class para 1\n",
       "         </p>,\n",
       " <p>\n",
       "             This is paragraph four of div with class para 1\n",
       "         </p>]"
      ]
     },
     "execution_count": 31,
     "metadata": {},
     "output_type": "execute_result"
    }
   ],
   "source": [
    "#access all the p tags:\n",
    "soup.find_all(\"p\")"
   ]
  },
  {
   "cell_type": "code",
   "execution_count": 34,
   "metadata": {},
   "outputs": [
    {
     "data": {
      "text/plain": [
       "[<div class=\"para 1\">\n",
       " <p>\n",
       "             This is paragraph one\n",
       "         </p>\n",
       " <p>\n",
       "             This is paragraph two\n",
       "         </p>\n",
       " </div>,\n",
       " <div class=\"para 1\">\n",
       " <p>\n",
       "             This is paragraph three of div with class para 1\n",
       "         </p>\n",
       " <p>\n",
       "             This is paragraph four of div with class para 1\n",
       "         </p>\n",
       " </div>]"
      ]
     },
     "execution_count": 34,
     "metadata": {},
     "output_type": "execute_result"
    }
   ],
   "source": [
    "#how to select div tags along with the 'class para 1' one: so access div by class\n",
    "soup.find_all('div', class_='para 1')\n",
    "#so, there are only 2 div tags where class = 'para 1'"
   ]
  },
  {
   "cell_type": "code",
   "execution_count": 26,
   "metadata": {},
   "outputs": [
    {
     "data": {
      "text/plain": [
       "<div class=\"para 1\">\n",
       "<p>\n",
       "            This is paragraph one\n",
       "        </p>\n",
       "<p>\n",
       "            This is paragraph two\n",
       "        </p>\n",
       "</div>"
      ]
     },
     "execution_count": 26,
     "metadata": {},
     "output_type": "execute_result"
    }
   ],
   "source": [
    "soup.find_all('div', class_='para 1')[0]"
   ]
  },
  {
   "cell_type": "code",
   "execution_count": 27,
   "metadata": {},
   "outputs": [
    {
     "data": {
      "text/plain": [
       "<p>\n",
       "            This is paragraph one\n",
       "        </p>"
      ]
     },
     "execution_count": 27,
     "metadata": {},
     "output_type": "execute_result"
    }
   ],
   "source": [
    "#Now from this div of class = 'para 1' get only the first paragrapgh p tag:\n",
    "soup.find_all('div', class_='para 1')[0].p"
   ]
  },
  {
   "cell_type": "markdown",
   "metadata": {},
   "source": [
    "**Note: Here '.p' gives only the 1st p tag**"
   ]
  },
  {
   "cell_type": "code",
   "execution_count": 10,
   "metadata": {},
   "outputs": [
    {
     "data": {
      "text/plain": [
       "<div class=\"para 1\">\n",
       "<p>\n",
       "            This is paragraph one\n",
       "        </p>\n",
       "<p>\n",
       "            This is paragraph two\n",
       "        </p>\n",
       "</div>"
      ]
     },
     "execution_count": 10,
     "metadata": {},
     "output_type": "execute_result"
    }
   ],
   "source": [
    "soup.find_all('div', class_='para 1')[0]"
   ]
  },
  {
   "cell_type": "code",
   "execution_count": 29,
   "metadata": {},
   "outputs": [
    {
     "data": {
      "text/plain": [
       "[<p>\n",
       "             This is paragraph one\n",
       "         </p>,\n",
       " <p>\n",
       "             This is paragraph two\n",
       "         </p>]"
      ]
     },
     "execution_count": 29,
     "metadata": {},
     "output_type": "execute_result"
    }
   ],
   "source": [
    "#Now get all the p tags from the same:\n",
    "soup.find_all('div', class_='para 1')[0].find_all('p')"
   ]
  },
  {
   "cell_type": "markdown",
   "metadata": {},
   "source": [
    "**Convert the p tag into text:**"
   ]
  },
  {
   "cell_type": "code",
   "execution_count": 15,
   "metadata": {},
   "outputs": [
    {
     "data": {
      "text/plain": [
       "'\\n            This is paragraph one\\n        '"
      ]
     },
     "execution_count": 15,
     "metadata": {},
     "output_type": "execute_result"
    }
   ],
   "source": [
    "soup.find_all('div', class_='para 1')[0].p.text"
   ]
  },
  {
   "cell_type": "code",
   "execution_count": 16,
   "metadata": {},
   "outputs": [
    {
     "data": {
      "text/plain": [
       "'This is paragraph one'"
      ]
     },
     "execution_count": 16,
     "metadata": {},
     "output_type": "execute_result"
    }
   ],
   "source": [
    "soup.find_all('div', class_='para 1')[0].p.text.strip()"
   ]
  },
  {
   "cell_type": "code",
   "execution_count": 31,
   "metadata": {},
   "outputs": [
    {
     "data": {
      "text/plain": [
       "'This is paragraph two'"
      ]
     },
     "execution_count": 31,
     "metadata": {},
     "output_type": "execute_result"
    }
   ],
   "source": [
    "#Get the 2nd p tag into text:\n",
    "soup.find_all('div', class_='para 1')[0].find_all('p')[1].text.strip()"
   ]
  },
  {
   "cell_type": "code",
   "execution_count": 36,
   "metadata": {},
   "outputs": [
    {
     "name": "stdout",
     "output_type": "stream",
     "text": [
      "<div class=\"para 1\">\n",
      "<p>\n",
      "            This is paragraph one\n",
      "        </p>\n",
      "<p>\n",
      "            This is paragraph two\n",
      "        </p>\n",
      "</div>\n",
      "Blank Line1*****\n",
      "<p>\n",
      "            This is paragraph one\n",
      "        </p>\n",
      "Blank Line2*****\n"
     ]
    },
    {
     "data": {
      "text/plain": [
       "<p>\n",
       "            This is paragraph two\n",
       "        </p>"
      ]
     },
     "execution_count": 36,
     "metadata": {},
     "output_type": "execute_result"
    }
   ],
   "source": [
    "#get the 2nd p tag/element where This is paragraph two: (1st div tag)\n",
    "print(soup.find_all('div', class_='para 1')[0])             #get only the 1st div with class='para 1'\n",
    "print('Blank Line1*****')\n",
    "\n",
    "print(soup.find_all('div', class_='para 1')[0].p)           #get only the 1st p tag only from this div\n",
    "print('Blank Line2*****')\n",
    "\n",
    "soup.find_all('div', class_='para 1')[0].find_all('p')[1]   #get the 2nd p tag "
   ]
  },
  {
   "cell_type": "markdown",
   "metadata": {},
   "source": [
    "So, we got what we wanted to find."
   ]
  },
  {
   "cell_type": "code",
   "execution_count": 49,
   "metadata": {},
   "outputs": [
    {
     "name": "stdout",
     "output_type": "stream",
     "text": [
      "[<div class=\"para 1\">\n",
      "<p>\n",
      "            This is paragraph one\n",
      "        </p>\n",
      "<p>\n",
      "            This is paragraph two\n",
      "        </p>\n",
      "</div>, <div class=\"para 1\">\n",
      "<p>\n",
      "            This is paragraph three of div with class para 1\n",
      "        </p>\n",
      "<p>\n",
      "            This is paragraph four of div with class para 1\n",
      "        </p>\n",
      "</div>]\n",
      "********************************************************\n",
      "This is paragraph three of div with class para 1\n"
     ]
    },
    {
     "data": {
      "text/plain": [
       "'This is paragraph three of div with class para 1'"
      ]
     },
     "execution_count": 49,
     "metadata": {},
     "output_type": "execute_result"
    }
   ],
   "source": [
    "#access div with class para 1:\n",
    "print(soup.find_all('div', class_='para 1'))\n",
    "print('********************************************************')\n",
    "\n",
    "print(soup.find_all('div', class_='para 1')[1].find_all('p')[0].text.strip())\n",
    "#OR:\n",
    "soup.find_all('div', class_='para 1')[1].find_all('p')[0].text.strip()"
   ]
  },
  {
   "cell_type": "code",
   "execution_count": 57,
   "metadata": {},
   "outputs": [
    {
     "data": {
      "text/plain": [
       "[<p>\n",
       "             This is paragraph one\n",
       "         </p>,\n",
       " <p>\n",
       "             This is paragraph two\n",
       "         </p>,\n",
       " <p>\n",
       "             This is para 1 in div 2\n",
       "         </p>,\n",
       " <p>\n",
       "             This is paragraph three of div with class para 1\n",
       "         </p>,\n",
       " <p>\n",
       "             This is paragraph four of div with class para 1\n",
       "         </p>]"
      ]
     },
     "execution_count": 57,
     "metadata": {},
     "output_type": "execute_result"
    }
   ],
   "source": [
    "#another way of selecting data:\n",
    "soup.select('div')\n",
    "soup.select('P')"
   ]
  },
  {
   "cell_type": "code",
   "execution_count": 51,
   "metadata": {},
   "outputs": [
    {
     "data": {
      "text/plain": [
       "True"
      ]
     },
     "execution_count": 51,
     "metadata": {},
     "output_type": "execute_result"
    }
   ],
   "source": [
    "soup.find_all('p') == soup.select('P')"
   ]
  },
  {
   "cell_type": "code",
   "execution_count": null,
   "metadata": {},
   "outputs": [],
   "source": []
  }
 ],
 "metadata": {
  "kernelspec": {
   "display_name": "Python 3",
   "language": "python",
   "name": "python3"
  },
  "language_info": {
   "codemirror_mode": {
    "name": "ipython",
    "version": 3
   },
   "file_extension": ".py",
   "mimetype": "text/x-python",
   "name": "python",
   "nbconvert_exporter": "python",
   "pygments_lexer": "ipython3",
   "version": "3.7.6"
  }
 },
 "nbformat": 4,
 "nbformat_minor": 4
}
