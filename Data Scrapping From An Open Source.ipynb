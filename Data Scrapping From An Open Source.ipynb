{
 "cells": [
  {
   "cell_type": "markdown",
   "metadata": {},
   "source": [
    "## Get data from an open source:\n",
    "- https://www.goodreads.com/quotes\n",
    "- access all the asked tags"
   ]
  },
  {
   "cell_type": "code",
   "execution_count": 53,
   "metadata": {},
   "outputs": [],
   "source": [
    "import requests\n",
    "res = requests.get('https://www.goodreads.com/quotes')"
   ]
  },
  {
   "cell_type": "code",
   "execution_count": 54,
   "metadata": {},
   "outputs": [],
   "source": [
    "soup = bs4.BeautifulSoup(res.text, 'html.parser') #there are many types of parser"
   ]
  },
  {
   "cell_type": "markdown",
   "metadata": {},
   "source": [
    "Get all the author names:\n",
    "- Approach1: using select"
   ]
  },
  {
   "cell_type": "code",
   "execution_count": 59,
   "metadata": {},
   "outputs": [
    {
     "name": "stdout",
     "output_type": "stream",
     "text": [
      "\n",
      "    Marilyn Monroe\n",
      "  \n",
      "\n",
      "    Oscar Wilde\n",
      "  \n",
      "\n",
      "    Albert Einstein\n",
      "  \n"
     ]
    }
   ],
   "source": [
    "soup.select(\".authorOrTitle\")[:3]\n",
    "for name in soup.select(\".authorOrTitle\")[:3]:\n",
    "    print(name.text)"
   ]
  },
  {
   "cell_type": "markdown",
   "metadata": {},
   "source": [
    "Approach2: OR, by using find_all we can do it:"
   ]
  },
  {
   "cell_type": "code",
   "execution_count": 80,
   "metadata": {},
   "outputs": [
    {
     "name": "stdout",
     "output_type": "stream",
     "text": [
      "\n",
      "    Marilyn Monroe\n",
      "  \n",
      "\n",
      "    Oscar Wilde\n",
      "  \n",
      "\n",
      "    Albert Einstein\n",
      "  \n"
     ]
    }
   ],
   "source": [
    "soup.find_all('span', class_='authorOrTitle')[:3]\n",
    "for name in soup.find_all('span', class_='authorOrTitle')[:3]:\n",
    "    print(name.text)"
   ]
  },
  {
   "cell_type": "code",
   "execution_count": 81,
   "metadata": {},
   "outputs": [
    {
     "data": {
      "text/plain": [
       "30"
      ]
     },
     "execution_count": 81,
     "metadata": {},
     "output_type": "execute_result"
    }
   ],
   "source": [
    "#len(soup.find_all('span', class_='authorOrTitle'))"
   ]
  },
  {
   "cell_type": "markdown",
   "metadata": {},
   "source": [
    "OR:"
   ]
  },
  {
   "cell_type": "code",
   "execution_count": 60,
   "metadata": {},
   "outputs": [
    {
     "data": {
      "text/plain": [
       "['Marilyn Monroe', 'Oscar Wilde', 'Albert Einstein']"
      ]
     },
     "execution_count": 60,
     "metadata": {},
     "output_type": "execute_result"
    }
   ],
   "source": [
    "Author = []\n",
    "soup.find_all('span', class_='authorOrTitle')\n",
    "for name in soup.find_all('span', class_='authorOrTitle'):\n",
    "    Author.append(name.text.strip())\n",
    "Author[:3]"
   ]
  },
  {
   "cell_type": "code",
   "execution_count": null,
   "metadata": {},
   "outputs": [],
   "source": [
    "#Get the likes\n",
    "tag = a\n",
    "class = smallText"
   ]
  },
  {
   "cell_type": "code",
   "execution_count": 94,
   "metadata": {},
   "outputs": [
    {
     "data": {
      "text/plain": [
       "'97778 likes'"
      ]
     },
     "execution_count": 94,
     "metadata": {},
     "output_type": "execute_result"
    }
   ],
   "source": [
    "likes = []\n",
    "soup.find_all('a', class_='smallText')\n",
    "for name in soup.find_all('a', class_='smallText'):\n",
    "    likes.append(name.text.strip())\n",
    "max(likes)"
   ]
  },
  {
   "cell_type": "code",
   "execution_count": 61,
   "metadata": {},
   "outputs": [
    {
     "data": {
      "text/plain": [
       "30"
      ]
     },
     "execution_count": 61,
     "metadata": {},
     "output_type": "execute_result"
    }
   ],
   "source": [
    "quotes = []\n",
    "soup.find_all('div', class_='quoteText')\n",
    "for name in soup.find_all('div', class_='quoteText'):\n",
    "    quotes.append(name.text.strip())\n",
    "len(quotes)"
   ]
  },
  {
   "cell_type": "code",
   "execution_count": 62,
   "metadata": {},
   "outputs": [
    {
     "data": {
      "text/plain": [
       "[\"“I'm selfish, impatient and a little insecure. I make mistakes, I am out of control and at times hard to handle. But if you can't handle me at my worst, then you sure as hell don't deserve me at my best.”\\n    ―\\n  \\n    Marilyn Monroe\",\n",
       " '“Be yourself; everyone else is already taken.”\\n    ―\\n  \\n    Oscar Wilde']"
      ]
     },
     "execution_count": 62,
     "metadata": {},
     "output_type": "execute_result"
    }
   ],
   "source": [
    "quotes[:2]"
   ]
  },
  {
   "cell_type": "markdown",
   "metadata": {},
   "source": [
    "- So, it seems quotes are appearing along with the writer name as well.\n",
    "- But we want only the quote part:\n",
    "- `As under the same tag 'div' and same class 'quoteText' there are sub tags also, hence we need to use 'children' here inorder to get the quotes part only.`"
   ]
  },
  {
   "cell_type": "code",
   "execution_count": 68,
   "metadata": {},
   "outputs": [
    {
     "name": "stdout",
     "output_type": "stream",
     "text": [
      "<div class=\"quoteText\">\n",
      "      “I'm selfish, impatient and a little insecure. I make mistakes, I am out of control and at times hard to handle. But if you can't handle me at my worst, then you sure as hell don't deserve me at my best.”\n",
      "  <br/>  ―\n",
      "  <span class=\"authorOrTitle\">\n",
      "    Marilyn Monroe\n",
      "  </span>\n",
      "</div>\n",
      "******************************************************************\n"
     ]
    },
    {
     "data": {
      "text/plain": [
       "[\"\\n      “I'm selfish, impatient and a little insecure. I make mistakes, I am out of control and at times hard to handle. But if you can't handle me at my worst, then you sure as hell don't deserve me at my best.”\\n  \",\n",
       " <br/>,\n",
       " '  ―\\n  ',\n",
       " <span class=\"authorOrTitle\">\n",
       "     Marilyn Monroe\n",
       "   </span>,\n",
       " '\\n']"
      ]
     },
     "execution_count": 68,
     "metadata": {},
     "output_type": "execute_result"
    }
   ],
   "source": [
    "print(soup.find_all('div', class_='quoteText')[0])  #print the 1st quote\n",
    "print('******************************************************************')\n",
    "list(soup.find_all('div', class_='quoteText')[0].children)"
   ]
  },
  {
   "cell_type": "markdown",
   "metadata": {},
   "source": [
    "- So, it seems that it has many child tags as well.\n",
    "- We need only the 1st: Need to select the 0th children"
   ]
  },
  {
   "cell_type": "code",
   "execution_count": 66,
   "metadata": {},
   "outputs": [
    {
     "data": {
      "text/plain": [
       "5"
      ]
     },
     "execution_count": 66,
     "metadata": {},
     "output_type": "execute_result"
    }
   ],
   "source": [
    "#how many childern are there under this div:\n",
    "len(list(soup.find_all('div', class_='quoteText')[0].children))   #selected 1st quote and it's total chidlren tags"
   ]
  },
  {
   "cell_type": "code",
   "execution_count": 101,
   "metadata": {},
   "outputs": [
    {
     "data": {
      "text/plain": [
       "\"\\n      “I'm selfish, impatient and a little insecure. I make mistakes, I am out of control and at times hard to handle. But if you can't handle me at my worst, then you sure as hell don't deserve me at my best.”\\n  \""
      ]
     },
     "execution_count": 101,
     "metadata": {},
     "output_type": "execute_result"
    }
   ],
   "source": [
    "#Now select the 1st one only out of the total 5 children:\n",
    "list(soup.find_all('div', class_='quoteText')[0].children)[0]"
   ]
  },
  {
   "cell_type": "code",
   "execution_count": 109,
   "metadata": {},
   "outputs": [
    {
     "data": {
      "text/plain": [
       "30"
      ]
     },
     "execution_count": 109,
     "metadata": {},
     "output_type": "execute_result"
    }
   ],
   "source": [
    "#So we can write this way to get all the children:\n",
    "quotes2 = []\n",
    "for name in soup.find_all('div', class_='quoteText'):\n",
    "    quotes2.append(list(name.children)[0].strip())\n",
    "len(quotes2)"
   ]
  },
  {
   "cell_type": "code",
   "execution_count": 112,
   "metadata": {},
   "outputs": [
    {
     "data": {
      "text/plain": [
       "'97778 likes'"
      ]
     },
     "execution_count": 112,
     "metadata": {},
     "output_type": "execute_result"
    }
   ],
   "source": [
    "likes = []\n",
    "soup.find_all('a', class_='smallText')\n",
    "for name in soup.find_all('a', class_='smallText'):\n",
    "    likes.append(list(name.children)[0].strip())\n",
    "max(likes)"
   ]
  },
  {
   "cell_type": "code",
   "execution_count": 116,
   "metadata": {},
   "outputs": [
    {
     "data": {
      "text/plain": [
       "'153875'"
      ]
     },
     "execution_count": 116,
     "metadata": {},
     "output_type": "execute_result"
    }
   ],
   "source": [
    "#now want only the number part:\n",
    "soup.find_all('a', class_='smallText')[0].text.split()[0]"
   ]
  },
  {
   "cell_type": "code",
   "execution_count": 120,
   "metadata": {},
   "outputs": [],
   "source": [
    "likes2 = []\n",
    "for i in soup.find_all('a', class_='smallText'):\n",
    "    likes2.append((i.text.split()[0]))"
   ]
  },
  {
   "cell_type": "code",
   "execution_count": 119,
   "metadata": {},
   "outputs": [],
   "source": [
    "import pandas as pd"
   ]
  },
  {
   "cell_type": "markdown",
   "metadata": {},
   "source": [
    "Put 3 columns into a df: manual way"
   ]
  },
  {
   "cell_type": "code",
   "execution_count": 122,
   "metadata": {},
   "outputs": [
    {
     "data": {
      "text/html": [
       "<div>\n",
       "<style scoped>\n",
       "    .dataframe tbody tr th:only-of-type {\n",
       "        vertical-align: middle;\n",
       "    }\n",
       "\n",
       "    .dataframe tbody tr th {\n",
       "        vertical-align: top;\n",
       "    }\n",
       "\n",
       "    .dataframe thead th {\n",
       "        text-align: right;\n",
       "    }\n",
       "</style>\n",
       "<table border=\"1\" class=\"dataframe\">\n",
       "  <thead>\n",
       "    <tr style=\"text-align: right;\">\n",
       "      <th></th>\n",
       "      <th>Author</th>\n",
       "      <th>quotes</th>\n",
       "      <th>likes</th>\n",
       "    </tr>\n",
       "  </thead>\n",
       "  <tbody>\n",
       "    <tr>\n",
       "      <th>0</th>\n",
       "      <td>Marilyn Monroe</td>\n",
       "      <td>“I'm selfish, impatient and a little insecure....</td>\n",
       "      <td>153875</td>\n",
       "    </tr>\n",
       "    <tr>\n",
       "      <th>1</th>\n",
       "      <td>Oscar Wilde</td>\n",
       "      <td>“Be yourself; everyone else is already taken.”</td>\n",
       "      <td>153849</td>\n",
       "    </tr>\n",
       "    <tr>\n",
       "      <th>2</th>\n",
       "      <td>Albert Einstein</td>\n",
       "      <td>“Two things are infinite: the universe and hum...</td>\n",
       "      <td>135485</td>\n",
       "    </tr>\n",
       "    <tr>\n",
       "      <th>3</th>\n",
       "      <td>Frank Zappa</td>\n",
       "      <td>“So many books, so little time.”</td>\n",
       "      <td>132111</td>\n",
       "    </tr>\n",
       "    <tr>\n",
       "      <th>4</th>\n",
       "      <td>Marcus Tullius Cicero</td>\n",
       "      <td>“A room without books is like a body without a...</td>\n",
       "      <td>123427</td>\n",
       "    </tr>\n",
       "  </tbody>\n",
       "</table>\n",
       "</div>"
      ],
      "text/plain": [
       "                  Author                                             quotes  \\\n",
       "0         Marilyn Monroe  “I'm selfish, impatient and a little insecure....   \n",
       "1            Oscar Wilde     “Be yourself; everyone else is already taken.”   \n",
       "2        Albert Einstein  “Two things are infinite: the universe and hum...   \n",
       "3            Frank Zappa                   “So many books, so little time.”   \n",
       "4  Marcus Tullius Cicero  “A room without books is like a body without a...   \n",
       "\n",
       "    likes  \n",
       "0  153875  \n",
       "1  153849  \n",
       "2  135485  \n",
       "3  132111  \n",
       "4  123427  "
      ]
     },
     "execution_count": 122,
     "metadata": {},
     "output_type": "execute_result"
    }
   ],
   "source": [
    "df = pd.DataFrame({'Author':Author,'quotes':quotes2,'likes':likes2})\n",
    "df.head()"
   ]
  },
  {
   "cell_type": "markdown",
   "metadata": {},
   "source": [
    "- Now if we want to do this for each page of this website then we need some automatic way rather than doing it manually.\n",
    "- Put 3 columns into a df: automatic way (use customized func instead)"
   ]
  },
  {
   "cell_type": "code",
   "execution_count": 149,
   "metadata": {},
   "outputs": [],
   "source": [
    "def get_table(soup):\n",
    "    Author = []\n",
    "    soup.find_all('span', class_='authorOrTitle')\n",
    "    for name in soup.find_all('span', class_='authorOrTitle'):\n",
    "        Author.append(name.text.strip())\n",
    "        \n",
    "    quotes2 = []\n",
    "    for name in soup.find_all('div', class_='quoteText'):\n",
    "        quotes2.append(list(name.children)[0].strip())\n",
    "        \n",
    "    likes2 = []\n",
    "    for i in soup.find_all('a', class_='smallText'):\n",
    "        likes2.append((i.text.split()[0]))\n",
    "        \n",
    "    import pandas as pd\n",
    "    df = pd.DataFrame({'Author':Author,'quotes':quotes2,'likes':likes2})\n",
    "    return (df)"
   ]
  },
  {
   "cell_type": "code",
   "execution_count": 126,
   "metadata": {},
   "outputs": [
    {
     "data": {
      "text/html": [
       "<div>\n",
       "<style scoped>\n",
       "    .dataframe tbody tr th:only-of-type {\n",
       "        vertical-align: middle;\n",
       "    }\n",
       "\n",
       "    .dataframe tbody tr th {\n",
       "        vertical-align: top;\n",
       "    }\n",
       "\n",
       "    .dataframe thead th {\n",
       "        text-align: right;\n",
       "    }\n",
       "</style>\n",
       "<table border=\"1\" class=\"dataframe\">\n",
       "  <thead>\n",
       "    <tr style=\"text-align: right;\">\n",
       "      <th></th>\n",
       "      <th>Author</th>\n",
       "      <th>quotes</th>\n",
       "      <th>likes</th>\n",
       "    </tr>\n",
       "  </thead>\n",
       "  <tbody>\n",
       "    <tr>\n",
       "      <th>0</th>\n",
       "      <td>Marilyn Monroe</td>\n",
       "      <td>“I'm selfish, impatient and a little insecure....</td>\n",
       "      <td>153875</td>\n",
       "    </tr>\n",
       "    <tr>\n",
       "      <th>1</th>\n",
       "      <td>Oscar Wilde</td>\n",
       "      <td>“Be yourself; everyone else is already taken.”</td>\n",
       "      <td>153849</td>\n",
       "    </tr>\n",
       "    <tr>\n",
       "      <th>2</th>\n",
       "      <td>Albert Einstein</td>\n",
       "      <td>“Two things are infinite: the universe and hum...</td>\n",
       "      <td>135485</td>\n",
       "    </tr>\n",
       "    <tr>\n",
       "      <th>3</th>\n",
       "      <td>Frank Zappa</td>\n",
       "      <td>“So many books, so little time.”</td>\n",
       "      <td>132111</td>\n",
       "    </tr>\n",
       "    <tr>\n",
       "      <th>4</th>\n",
       "      <td>Marcus Tullius Cicero</td>\n",
       "      <td>“A room without books is like a body without a...</td>\n",
       "      <td>123427</td>\n",
       "    </tr>\n",
       "  </tbody>\n",
       "</table>\n",
       "</div>"
      ],
      "text/plain": [
       "                  Author                                             quotes  \\\n",
       "0         Marilyn Monroe  “I'm selfish, impatient and a little insecure....   \n",
       "1            Oscar Wilde     “Be yourself; everyone else is already taken.”   \n",
       "2        Albert Einstein  “Two things are infinite: the universe and hum...   \n",
       "3            Frank Zappa                   “So many books, so little time.”   \n",
       "4  Marcus Tullius Cicero  “A room without books is like a body without a...   \n",
       "\n",
       "    likes  \n",
       "0  153875  \n",
       "1  153849  \n",
       "2  135485  \n",
       "3  132111  \n",
       "4  123427  "
      ]
     },
     "execution_count": 126,
     "metadata": {},
     "output_type": "execute_result"
    }
   ],
   "source": [
    "get_table(soup)"
   ]
  },
  {
   "cell_type": "markdown",
   "metadata": {},
   "source": [
    "**Now for multiple page scrapping how to get the same resluts:**"
   ]
  },
  {
   "cell_type": "raw",
   "metadata": {},
   "source": [
    "https://www.goodreads.com/quotes?page=1\n",
    "https://www.goodreads.com/quotes?page=2\n",
    "https://www.goodreads.com/quotes?page=3\n",
    "and so on..I have to change the page number only.."
   ]
  },
  {
   "cell_type": "code",
   "execution_count": 127,
   "metadata": {},
   "outputs": [],
   "source": [
    "stub = \"https://www.goodreads.com/quotes?page={}\""
   ]
  },
  {
   "cell_type": "code",
   "execution_count": 130,
   "metadata": {},
   "outputs": [
    {
     "name": "stdout",
     "output_type": "stream",
     "text": [
      "https://www.goodreads.com/quotes?page=1\n",
      "https://www.goodreads.com/quotes?page=4\n"
     ]
    }
   ],
   "source": [
    "print(stub.format(1))\n",
    "#hence getting page1\n",
    "\n",
    "print(stub.format(4))\n",
    "#hence getting page4"
   ]
  },
  {
   "cell_type": "code",
   "execution_count": 133,
   "metadata": {},
   "outputs": [
    {
     "name": "stdout",
     "output_type": "stream",
     "text": [
      "https://www.goodreads.com/quotes?page=1\n",
      "https://www.goodreads.com/quotes?page=2\n",
      "https://www.goodreads.com/quotes?page=3\n",
      "https://www.goodreads.com/quotes?page=4\n",
      "https://www.goodreads.com/quotes?page=5\n",
      "https://www.goodreads.com/quotes?page=6\n",
      "https://www.goodreads.com/quotes?page=7\n",
      "https://www.goodreads.com/quotes?page=8\n",
      "https://www.goodreads.com/quotes?page=9\n",
      "https://www.goodreads.com/quotes?page=10\n"
     ]
    }
   ],
   "source": [
    "#to access each and every page initiate a loop: access only 1 to 10 pages\n",
    "for page in range(1,11):\n",
    "    url = stub.format(page)\n",
    "    print(url)"
   ]
  },
  {
   "cell_type": "code",
   "execution_count": 150,
   "metadata": {},
   "outputs": [],
   "source": [
    "#Now request:\n",
    "table = []\n",
    "for page in range(1,11):\n",
    "    url = stub.format(page)\n",
    "    html = requests.get(url).text\n",
    "    soup = bs4.BeautifulSoup(html, 'html.parser')\n",
    "    table.append(get_table(soup))"
   ]
  },
  {
   "cell_type": "code",
   "execution_count": 151,
   "metadata": {},
   "outputs": [
    {
     "data": {
      "text/plain": [
       "10"
      ]
     },
     "execution_count": 151,
     "metadata": {},
     "output_type": "execute_result"
    }
   ],
   "source": [
    "len(table)\n",
    "#extracted from 10 diff pages"
   ]
  },
  {
   "cell_type": "code",
   "execution_count": 152,
   "metadata": {},
   "outputs": [],
   "source": [
    "#combine those:\n",
    "data = pd.concat(table, axis=0)"
   ]
  },
  {
   "cell_type": "code",
   "execution_count": 153,
   "metadata": {},
   "outputs": [
    {
     "data": {
      "text/plain": [
       "(300, 3)"
      ]
     },
     "execution_count": 153,
     "metadata": {},
     "output_type": "execute_result"
    }
   ],
   "source": [
    "data.shape"
   ]
  },
  {
   "cell_type": "markdown",
   "metadata": {},
   "source": [
    "Keep track how much data is being processed:\n",
    "- use lib tqdm"
   ]
  },
  {
   "cell_type": "code",
   "execution_count": 154,
   "metadata": {},
   "outputs": [],
   "source": [
    "#extract for 20 pages:\n",
    "from tqdm import tqdm"
   ]
  },
  {
   "cell_type": "code",
   "execution_count": 155,
   "metadata": {},
   "outputs": [
    {
     "name": "stderr",
     "output_type": "stream",
     "text": [
      "100%|██████████████████████████████████████████████████████████████████████████████████| 20/20 [00:41<00:00,  2.07s/it]\n"
     ]
    }
   ],
   "source": [
    "#extract from 20 pages keeping track on it:\n",
    "table = []\n",
    "for page in tqdm(range(1,21)):\n",
    "    url = stub.format(page)\n",
    "    html = requests.get(url).text\n",
    "    soup = bs4.BeautifulSoup(html, 'html.parser')\n",
    "    table.append(get_table(soup))"
   ]
  },
  {
   "cell_type": "code",
   "execution_count": 159,
   "metadata": {},
   "outputs": [
    {
     "data": {
      "text/plain": [
       "(600, 3)"
      ]
     },
     "execution_count": 159,
     "metadata": {},
     "output_type": "execute_result"
    }
   ],
   "source": [
    "#combine those and check the shape now:\n",
    "data = pd.concat(table, axis=0)\n",
    "data.shape"
   ]
  },
  {
   "cell_type": "markdown",
   "metadata": {},
   "source": [
    "Another websit:"
   ]
  },
  {
   "cell_type": "code",
   "execution_count": 223,
   "metadata": {},
   "outputs": [],
   "source": [
    "stub = 'https://www.goodreads.com/list/show/19.Best_for_Book_Club'"
   ]
  },
  {
   "cell_type": "code",
   "execution_count": 224,
   "metadata": {},
   "outputs": [],
   "source": [
    "html = requests.get(stub).text\n",
    "soup = bs4.BeautifulSoup(html, 'html.parser')\n",
    "#table.append(get_table(soup))"
   ]
  },
  {
   "cell_type": "markdown",
   "metadata": {},
   "source": [
    "get : book names, aithor anme, ratings\n",
    "- book tag - a, class- bookTitle\n",
    "- author tag - a, class- authorName\n",
    "- ratinsg tag- span, class- minirating"
   ]
  },
  {
   "cell_type": "code",
   "execution_count": 174,
   "metadata": {},
   "outputs": [
    {
     "data": {
      "text/plain": [
       "100"
      ]
     },
     "execution_count": 174,
     "metadata": {},
     "output_type": "execute_result"
    }
   ],
   "source": [
    "len(soup.find_all('a', class_='bookTitle'))"
   ]
  },
  {
   "cell_type": "code",
   "execution_count": 225,
   "metadata": {},
   "outputs": [
    {
     "data": {
      "text/plain": [
       "100"
      ]
     },
     "execution_count": 225,
     "metadata": {},
     "output_type": "execute_result"
    }
   ],
   "source": [
    "books = []\n",
    "for i in soup.find_all('a', class_='bookTitle'):\n",
    "    books.append((i.text.strip()))\n",
    "len(books)"
   ]
  },
  {
   "cell_type": "code",
   "execution_count": 226,
   "metadata": {},
   "outputs": [
    {
     "data": {
      "text/plain": [
       "100"
      ]
     },
     "execution_count": 226,
     "metadata": {},
     "output_type": "execute_result"
    }
   ],
   "source": [
    "authors = []\n",
    "for i in soup.find_all('a', class_='authorName'):\n",
    "    authors.append((i.text.strip()))\n",
    "len(authors)"
   ]
  },
  {
   "cell_type": "code",
   "execution_count": 227,
   "metadata": {},
   "outputs": [
    {
     "data": {
      "text/plain": [
       "100"
      ]
     },
     "execution_count": 227,
     "metadata": {},
     "output_type": "execute_result"
    }
   ],
   "source": [
    "ratings = []\n",
    "for i in soup.find_all('span', class_='minirating'):\n",
    "    ratings.append((i.text.strip().split()[0]))\n",
    "len(ratings)"
   ]
  },
  {
   "cell_type": "code",
   "execution_count": 195,
   "metadata": {},
   "outputs": [],
   "source": [
    "#OR\n",
    "#get only the ratings:\n",
    "ratings_no = []\n",
    "for i in soup.find_all('span', class_='minirating'):\n",
    "    ratings_no.append((i.text.split()[0]))\n",
    "ratings_no[:2]"
   ]
  },
  {
   "cell_type": "markdown",
   "metadata": {},
   "source": [
    "Need to customize the func accordingly:"
   ]
  },
  {
   "cell_type": "code",
   "execution_count": 206,
   "metadata": {},
   "outputs": [],
   "source": [
    "def get_table(soup):\n",
    "    books = []\n",
    "    for i in soup.find_all('a', class_='bookTitle'):\n",
    "        books.append((i.text.strip()))\n",
    "        \n",
    "    authors = []\n",
    "    for i in soup.find_all('a', class_='authorName'):\n",
    "        authors.append((i.text.strip()))\n",
    "        \n",
    "    ratings_no = []\n",
    "    for i in soup.find_all('span', class_='minirating'):\n",
    "        ratings_no.append((i.text.split()[0]))\n",
    "        \n",
    "    import pandas as pd\n",
    "    df1 = pd.DataFrame({'Books':books,'Authors':authors,'Ratings':ratings})\n",
    "    return (df1)"
   ]
  },
  {
   "cell_type": "code",
   "execution_count": 217,
   "metadata": {},
   "outputs": [
    {
     "data": {
      "text/plain": [
       "(100, 3)"
      ]
     },
     "execution_count": 217,
     "metadata": {},
     "output_type": "execute_result"
    }
   ],
   "source": [
    "df2 = get_table(soup)\n",
    "df2.shape"
   ]
  },
  {
   "cell_type": "code",
   "execution_count": 218,
   "metadata": {},
   "outputs": [
    {
     "data": {
      "text/html": [
       "<div>\n",
       "<style scoped>\n",
       "    .dataframe tbody tr th:only-of-type {\n",
       "        vertical-align: middle;\n",
       "    }\n",
       "\n",
       "    .dataframe tbody tr th {\n",
       "        vertical-align: top;\n",
       "    }\n",
       "\n",
       "    .dataframe thead th {\n",
       "        text-align: right;\n",
       "    }\n",
       "</style>\n",
       "<table border=\"1\" class=\"dataframe\">\n",
       "  <thead>\n",
       "    <tr style=\"text-align: right;\">\n",
       "      <th></th>\n",
       "      <th>Books</th>\n",
       "      <th>Authors</th>\n",
       "      <th>Ratings</th>\n",
       "    </tr>\n",
       "  </thead>\n",
       "  <tbody>\n",
       "    <tr>\n",
       "      <th>0</th>\n",
       "      <td>The Help</td>\n",
       "      <td>Kathryn Stockett</td>\n",
       "      <td>4.46</td>\n",
       "    </tr>\n",
       "    <tr>\n",
       "      <th>1</th>\n",
       "      <td>The Kite Runner</td>\n",
       "      <td>Khaled Hosseini</td>\n",
       "      <td>4.31</td>\n",
       "    </tr>\n",
       "    <tr>\n",
       "      <th>2</th>\n",
       "      <td>Water for Elephants</td>\n",
       "      <td>Sara Gruen</td>\n",
       "      <td>4.09</td>\n",
       "    </tr>\n",
       "    <tr>\n",
       "      <th>3</th>\n",
       "      <td>The Book Thief</td>\n",
       "      <td>Markus Zusak</td>\n",
       "      <td>4.38</td>\n",
       "    </tr>\n",
       "    <tr>\n",
       "      <th>4</th>\n",
       "      <td>To Kill a Mockingbird</td>\n",
       "      <td>Harper Lee</td>\n",
       "      <td>4.28</td>\n",
       "    </tr>\n",
       "  </tbody>\n",
       "</table>\n",
       "</div>"
      ],
      "text/plain": [
       "                   Books           Authors Ratings\n",
       "0               The Help  Kathryn Stockett    4.46\n",
       "1        The Kite Runner   Khaled Hosseini    4.31\n",
       "2    Water for Elephants        Sara Gruen    4.09\n",
       "3         The Book Thief      Markus Zusak    4.38\n",
       "4  To Kill a Mockingbird        Harper Lee    4.28"
      ]
     },
     "execution_count": 218,
     "metadata": {},
     "output_type": "execute_result"
    }
   ],
   "source": [
    "df2.head()"
   ]
  },
  {
   "cell_type": "code",
   "execution_count": 221,
   "metadata": {},
   "outputs": [],
   "source": [
    "df2['Ratings'] = df2['Ratings'].astype(float)"
   ]
  },
  {
   "cell_type": "code",
   "execution_count": 222,
   "metadata": {},
   "outputs": [
    {
     "data": {
      "text/plain": [
       "4.62"
      ]
     },
     "execution_count": 222,
     "metadata": {},
     "output_type": "execute_result"
    }
   ],
   "source": [
    "df2['Ratings'].max()"
   ]
  },
  {
   "cell_type": "markdown",
   "metadata": {},
   "source": [
    "So far we got from 1 web page only. Now get from other pages as well."
   ]
  },
  {
   "cell_type": "code",
   "execution_count": 379,
   "metadata": {},
   "outputs": [],
   "source": [
    "#step1: create the stub at first:\n",
    "stub = \"https://www.goodreads.com/list/show/19.Best_for_Book_Club={}\""
   ]
  },
  {
   "cell_type": "code",
   "execution_count": 380,
   "metadata": {},
   "outputs": [
    {
     "data": {
      "text/plain": [
       "'https://www.goodreads.com/list/show/19.Best_for_Book_Club=5'"
      ]
     },
     "execution_count": 380,
     "metadata": {},
     "output_type": "execute_result"
    }
   ],
   "source": [
    "stub.format(5)"
   ]
  },
  {
   "cell_type": "code",
   "execution_count": 230,
   "metadata": {},
   "outputs": [
    {
     "name": "stderr",
     "output_type": "stream",
     "text": [
      "100%|██████████████████████████████████████████████████████████████████████████████████| 20/20 [01:35<00:00,  4.78s/it]\n"
     ]
    }
   ],
   "source": [
    "#Step2: extract from 20 pages keeping track on it:\n",
    "table = []\n",
    "for page in tqdm(range(1,21)):\n",
    "    url = stub.format(page)\n",
    "    html = requests.get(url).text\n",
    "    soup = bs4.BeautifulSoup(html, 'html.parser')\n",
    "    table.append(get_table(soup))"
   ]
  },
  {
   "cell_type": "code",
   "execution_count": 231,
   "metadata": {},
   "outputs": [
    {
     "data": {
      "text/plain": [
       "(2000, 3)"
      ]
     },
     "execution_count": 231,
     "metadata": {},
     "output_type": "execute_result"
    }
   ],
   "source": [
    "#Step3: combine those and check the shape now:\n",
    "data = pd.concat(table, axis=0)\n",
    "data.shape"
   ]
  },
  {
   "cell_type": "code",
   "execution_count": 232,
   "metadata": {},
   "outputs": [
    {
     "data": {
      "text/html": [
       "<div>\n",
       "<style scoped>\n",
       "    .dataframe tbody tr th:only-of-type {\n",
       "        vertical-align: middle;\n",
       "    }\n",
       "\n",
       "    .dataframe tbody tr th {\n",
       "        vertical-align: top;\n",
       "    }\n",
       "\n",
       "    .dataframe thead th {\n",
       "        text-align: right;\n",
       "    }\n",
       "</style>\n",
       "<table border=\"1\" class=\"dataframe\">\n",
       "  <thead>\n",
       "    <tr style=\"text-align: right;\">\n",
       "      <th></th>\n",
       "      <th>Books</th>\n",
       "      <th>Authors</th>\n",
       "      <th>Ratings</th>\n",
       "    </tr>\n",
       "  </thead>\n",
       "  <tbody>\n",
       "    <tr>\n",
       "      <th>0</th>\n",
       "      <td>The Help</td>\n",
       "      <td>Kathryn Stockett</td>\n",
       "      <td>4.46</td>\n",
       "    </tr>\n",
       "    <tr>\n",
       "      <th>1</th>\n",
       "      <td>The Kite Runner</td>\n",
       "      <td>Khaled Hosseini</td>\n",
       "      <td>4.31</td>\n",
       "    </tr>\n",
       "    <tr>\n",
       "      <th>2</th>\n",
       "      <td>Water for Elephants</td>\n",
       "      <td>Sara Gruen</td>\n",
       "      <td>4.09</td>\n",
       "    </tr>\n",
       "    <tr>\n",
       "      <th>3</th>\n",
       "      <td>The Book Thief</td>\n",
       "      <td>Markus Zusak</td>\n",
       "      <td>4.38</td>\n",
       "    </tr>\n",
       "    <tr>\n",
       "      <th>4</th>\n",
       "      <td>To Kill a Mockingbird</td>\n",
       "      <td>Harper Lee</td>\n",
       "      <td>4.28</td>\n",
       "    </tr>\n",
       "  </tbody>\n",
       "</table>\n",
       "</div>"
      ],
      "text/plain": [
       "                   Books           Authors Ratings\n",
       "0               The Help  Kathryn Stockett    4.46\n",
       "1        The Kite Runner   Khaled Hosseini    4.31\n",
       "2    Water for Elephants        Sara Gruen    4.09\n",
       "3         The Book Thief      Markus Zusak    4.38\n",
       "4  To Kill a Mockingbird        Harper Lee    4.28"
      ]
     },
     "execution_count": 232,
     "metadata": {},
     "output_type": "execute_result"
    }
   ],
   "source": [
    "data.head()"
   ]
  },
  {
   "cell_type": "markdown",
   "metadata": {},
   "source": [
    "another: http://books.toscrape.com/"
   ]
  },
  {
   "cell_type": "code",
   "execution_count": null,
   "metadata": {},
   "outputs": [],
   "source": [
    "Task:\n",
    "get all the book name, price an dratings\n",
    "book tag -a , class title\n",
    "price tag- div, class product_price\n",
    "rating tag- , class"
   ]
  },
  {
   "cell_type": "code",
   "execution_count": 69,
   "metadata": {},
   "outputs": [],
   "source": [
    "url = \"http://books.toscrape.com/\"\n",
    "html = requests.get(url).text\n",
    "soup = bs4.BeautifulSoup(html, 'html.parser')"
   ]
  },
  {
   "cell_type": "code",
   "execution_count": 328,
   "metadata": {},
   "outputs": [],
   "source": [
    "#soup.find_all('div')[0]"
   ]
  },
  {
   "cell_type": "code",
   "execution_count": 329,
   "metadata": {},
   "outputs": [
    {
     "name": "stdout",
     "output_type": "stream",
     "text": [
      "20\n",
      "['51.77', '53.74', '50.10']\n"
     ]
    }
   ],
   "source": [
    "price = []\n",
    "for i in soup.find_all('div', class_='product_price'):\n",
    "    price.append((i.text.strip().split()[0].replace('Â£','')))\n",
    "print(len(price))\n",
    "print(price[:3])"
   ]
  },
  {
   "cell_type": "code",
   "execution_count": 73,
   "metadata": {},
   "outputs": [
    {
     "name": "stdout",
     "output_type": "stream",
     "text": [
      "['star-rating', 'Three']\n",
      "['star-rating', 'One']\n",
      "['star-rating', 'One']\n",
      "['star-rating', 'Four']\n",
      "['star-rating', 'Five']\n"
     ]
    }
   ],
   "source": [
    "for i in soup.find_all('article','product_pod')[:5]:\n",
    "    print(i.p.get('class'))"
   ]
  },
  {
   "cell_type": "code",
   "execution_count": 330,
   "metadata": {},
   "outputs": [
    {
     "name": "stdout",
     "output_type": "stream",
     "text": [
      "20\n",
      "['Three', 'One', 'One']\n"
     ]
    }
   ],
   "source": [
    "rating = []\n",
    "for i in soup.find_all('article','product_pod'):\n",
    "    rating.append(i.p.get('class')[1])\n",
    "print(len(rating))\n",
    "print(rating[:3])"
   ]
  },
  {
   "cell_type": "code",
   "execution_count": 331,
   "metadata": {},
   "outputs": [
    {
     "name": "stdout",
     "output_type": "stream",
     "text": [
      "20\n",
      "A Light in the ...\n",
      "Tipping the Velvet\n",
      "Soumission\n"
     ]
    }
   ],
   "source": [
    "books2 = []\n",
    "for i in soup.find_all('h3'):\n",
    "    books2.append((i.text.strip()))\n",
    "print(len(books2))\n",
    "for i in books2[:3]:\n",
    "    print(i)"
   ]
  },
  {
   "cell_type": "code",
   "execution_count": 324,
   "metadata": {},
   "outputs": [],
   "source": [
    "def get_table(soup):\n",
    "    books2 = []\n",
    "    for i in soup.find_all('h3'):\n",
    "        books2.append((i.text.strip()))\n",
    "        \n",
    "    price = []\n",
    "    for i in soup.find_all('div', class_='product_price'):\n",
    "        price.append((i.text.strip().split()[0].replace('Â£','')))\n",
    "        \n",
    "    rating = []\n",
    "    for i in soup.find_all('article','product_pod'):\n",
    "        rating.append(i.p.get('class')[1])\n",
    "        \n",
    "    import pandas as pd\n",
    "    df1 = pd.DataFrame({'Books':books2,'Price':price,'Rating':rating})\n",
    "    return (df1)"
   ]
  },
  {
   "cell_type": "code",
   "execution_count": 326,
   "metadata": {},
   "outputs": [
    {
     "data": {
      "text/html": [
       "<div>\n",
       "<style scoped>\n",
       "    .dataframe tbody tr th:only-of-type {\n",
       "        vertical-align: middle;\n",
       "    }\n",
       "\n",
       "    .dataframe tbody tr th {\n",
       "        vertical-align: top;\n",
       "    }\n",
       "\n",
       "    .dataframe thead th {\n",
       "        text-align: right;\n",
       "    }\n",
       "</style>\n",
       "<table border=\"1\" class=\"dataframe\">\n",
       "  <thead>\n",
       "    <tr style=\"text-align: right;\">\n",
       "      <th></th>\n",
       "      <th>Books</th>\n",
       "      <th>Price</th>\n",
       "      <th>Rating</th>\n",
       "    </tr>\n",
       "  </thead>\n",
       "  <tbody>\n",
       "    <tr>\n",
       "      <th>0</th>\n",
       "      <td>A Light in the ...</td>\n",
       "      <td>51.77</td>\n",
       "      <td>Three</td>\n",
       "    </tr>\n",
       "    <tr>\n",
       "      <th>1</th>\n",
       "      <td>Tipping the Velvet</td>\n",
       "      <td>53.74</td>\n",
       "      <td>One</td>\n",
       "    </tr>\n",
       "    <tr>\n",
       "      <th>2</th>\n",
       "      <td>Soumission</td>\n",
       "      <td>50.10</td>\n",
       "      <td>One</td>\n",
       "    </tr>\n",
       "    <tr>\n",
       "      <th>3</th>\n",
       "      <td>Sharp Objects</td>\n",
       "      <td>47.82</td>\n",
       "      <td>Four</td>\n",
       "    </tr>\n",
       "    <tr>\n",
       "      <th>4</th>\n",
       "      <td>Sapiens: A Brief History ...</td>\n",
       "      <td>54.23</td>\n",
       "      <td>Five</td>\n",
       "    </tr>\n",
       "  </tbody>\n",
       "</table>\n",
       "</div>"
      ],
      "text/plain": [
       "                          Books  Price Rating\n",
       "0            A Light in the ...  51.77  Three\n",
       "1            Tipping the Velvet  53.74    One\n",
       "2                    Soumission  50.10    One\n",
       "3                 Sharp Objects  47.82   Four\n",
       "4  Sapiens: A Brief History ...  54.23   Five"
      ]
     },
     "execution_count": 326,
     "metadata": {},
     "output_type": "execute_result"
    }
   ],
   "source": [
    "get_table(soup)[:5]"
   ]
  },
  {
   "cell_type": "markdown",
   "metadata": {},
   "source": [
    "Extract 3 pages:"
   ]
  },
  {
   "cell_type": "code",
   "execution_count": 364,
   "metadata": {},
   "outputs": [],
   "source": [
    "stub = \"http://books.toscrape.com/catalogue/page-{}.html\""
   ]
  },
  {
   "cell_type": "code",
   "execution_count": 366,
   "metadata": {},
   "outputs": [
    {
     "data": {
      "text/plain": [
       "'http://books.toscrape.com/catalogue/page-2.html'"
      ]
     },
     "execution_count": 366,
     "metadata": {},
     "output_type": "execute_result"
    }
   ],
   "source": [
    "#check the 2nd page\n",
    "stub.format(2)"
   ]
  },
  {
   "cell_type": "code",
   "execution_count": 367,
   "metadata": {},
   "outputs": [
    {
     "name": "stderr",
     "output_type": "stream",
     "text": [
      "100%|████████████████████████████████████████████████████████████████████████████████████| 3/3 [00:02<00:00,  1.38it/s]\n"
     ]
    }
   ],
   "source": [
    "table = []\n",
    "for page in tqdm(range(3)):\n",
    "    url = stub.format(page)\n",
    "    html = requests.get(url).text\n",
    "    soup = bs4.BeautifulSoup(html, 'html.parser')\n",
    "    table.append(get_table(soup))"
   ]
  },
  {
   "cell_type": "code",
   "execution_count": 368,
   "metadata": {},
   "outputs": [
    {
     "data": {
      "text/plain": [
       "3"
      ]
     },
     "execution_count": 368,
     "metadata": {},
     "output_type": "execute_result"
    }
   ],
   "source": [
    "len(table)"
   ]
  },
  {
   "cell_type": "code",
   "execution_count": 369,
   "metadata": {},
   "outputs": [
    {
     "data": {
      "text/plain": [
       "(40, 3)"
      ]
     },
     "execution_count": 369,
     "metadata": {},
     "output_type": "execute_result"
    }
   ],
   "source": [
    "#Step3: combine those and check the shape now:\n",
    "data = pd.concat(table, axis=0)\n",
    "data.shape"
   ]
  },
  {
   "cell_type": "markdown",
   "metadata": {},
   "source": [
    "Children books: Scrap multiple pages(3) of this section from the same website mentioned in the abive above code"
   ]
  },
  {
   "cell_type": "code",
   "execution_count": 371,
   "metadata": {},
   "outputs": [],
   "source": [
    "stub=\"http://books.toscrape.com/catalogue/category/books/childrens_11/page-{}.html\""
   ]
  },
  {
   "cell_type": "code",
   "execution_count": 377,
   "metadata": {},
   "outputs": [
    {
     "data": {
      "text/plain": [
       "'http://books.toscrape.com/catalogue/category/books/childrens_11/page-3.html'"
      ]
     },
     "execution_count": 377,
     "metadata": {},
     "output_type": "execute_result"
    }
   ],
   "source": [
    "stub.format(3)"
   ]
  },
  {
   "cell_type": "code",
   "execution_count": 373,
   "metadata": {},
   "outputs": [
    {
     "name": "stderr",
     "output_type": "stream",
     "text": [
      "100%|████████████████████████████████████████████████████████████████████████████████████| 3/3 [00:02<00:00,  1.41it/s]\n"
     ]
    }
   ],
   "source": [
    "table = []\n",
    "for page in tqdm(range(3)):\n",
    "    url = stub.format(page)\n",
    "    html = requests.get(url).text\n",
    "    soup = bs4.BeautifulSoup(html, 'html.parser')\n",
    "    table.append(get_table(soup))"
   ]
  },
  {
   "cell_type": "code",
   "execution_count": 374,
   "metadata": {},
   "outputs": [
    {
     "data": {
      "text/plain": [
       "(29, 3)"
      ]
     },
     "execution_count": 374,
     "metadata": {},
     "output_type": "execute_result"
    }
   ],
   "source": [
    "data = pd.concat(table, axis=0)\n",
    "data.shape"
   ]
  },
  {
   "cell_type": "code",
   "execution_count": 378,
   "metadata": {},
   "outputs": [
    {
     "data": {
      "text/html": [
       "<div>\n",
       "<style scoped>\n",
       "    .dataframe tbody tr th:only-of-type {\n",
       "        vertical-align: middle;\n",
       "    }\n",
       "\n",
       "    .dataframe tbody tr th {\n",
       "        vertical-align: top;\n",
       "    }\n",
       "\n",
       "    .dataframe thead th {\n",
       "        text-align: right;\n",
       "    }\n",
       "</style>\n",
       "<table border=\"1\" class=\"dataframe\">\n",
       "  <thead>\n",
       "    <tr style=\"text-align: right;\">\n",
       "      <th></th>\n",
       "      <th>Books</th>\n",
       "      <th>Price</th>\n",
       "      <th>Rating</th>\n",
       "    </tr>\n",
       "  </thead>\n",
       "  <tbody>\n",
       "    <tr>\n",
       "      <th>0</th>\n",
       "      <td>Birdsong: A Story in ...</td>\n",
       "      <td>54.64</td>\n",
       "      <td>Three</td>\n",
       "    </tr>\n",
       "    <tr>\n",
       "      <th>1</th>\n",
       "      <td>The Bear and the ...</td>\n",
       "      <td>36.89</td>\n",
       "      <td>One</td>\n",
       "    </tr>\n",
       "    <tr>\n",
       "      <th>2</th>\n",
       "      <td>The Secret of Dreadwillow ...</td>\n",
       "      <td>56.13</td>\n",
       "      <td>One</td>\n",
       "    </tr>\n",
       "    <tr>\n",
       "      <th>3</th>\n",
       "      <td>The White Cat and ...</td>\n",
       "      <td>58.08</td>\n",
       "      <td>Four</td>\n",
       "    </tr>\n",
       "    <tr>\n",
       "      <th>4</th>\n",
       "      <td>Little Red</td>\n",
       "      <td>13.47</td>\n",
       "      <td>Three</td>\n",
       "    </tr>\n",
       "  </tbody>\n",
       "</table>\n",
       "</div>"
      ],
      "text/plain": [
       "                           Books  Price Rating\n",
       "0       Birdsong: A Story in ...  54.64  Three\n",
       "1           The Bear and the ...  36.89    One\n",
       "2  The Secret of Dreadwillow ...  56.13    One\n",
       "3          The White Cat and ...  58.08   Four\n",
       "4                     Little Red  13.47  Three"
      ]
     },
     "execution_count": 378,
     "metadata": {},
     "output_type": "execute_result"
    }
   ],
   "source": [
    "data.head()"
   ]
  },
  {
   "cell_type": "code",
   "execution_count": null,
   "metadata": {},
   "outputs": [],
   "source": []
  }
 ],
 "metadata": {
  "kernelspec": {
   "display_name": "Python 3",
   "language": "python",
   "name": "python3"
  },
  "language_info": {
   "codemirror_mode": {
    "name": "ipython",
    "version": 3
   },
   "file_extension": ".py",
   "mimetype": "text/x-python",
   "name": "python",
   "nbconvert_exporter": "python",
   "pygments_lexer": "ipython3",
   "version": "3.7.6"
  }
 },
 "nbformat": 4,
 "nbformat_minor": 4
}
